{
 "cells": [
  {
   "cell_type": "markdown",
   "id": "aad24305",
   "metadata": {},
   "source": [
    "# Job Market Analysis Example\n",
    "\n",
    "This notebook demonstrates a simple analysis of job postings."
   ]
  },
  {
   "cell_type": "code",
   "execution_count": null,
   "id": "73b58b03",
   "metadata": {},
   "outputs": [],
   "source": [
    "import pandas as pd\n",
    "import matplotlib.pyplot as plt\n",
    "import seaborn as sns"
   ]
  },
  {
   "cell_type": "markdown",
   "id": "5a7455ab",
   "metadata": {},
   "source": [
    "## Load Example Data"
   ]
  },
  {
   "cell_type": "code",
   "execution_count": null,
   "id": "9e736e0b",
   "metadata": {},
   "outputs": [],
   "source": [
    "data = {\n",
    "    'Job Title': ['Data Analyst', 'AI Engineer', 'Data Scientist', 'ML Engineer'],\n",
    "    'Company': ['Company A', 'Company B', 'Company C', 'Company D'],\n",
    "    'Location': ['Riyadh', 'Jeddah', 'Dammam', 'Riyadh'],\n",
    "    'Skills': ['Python, Excel', 'Python, ML, NLP', 'Python, SQL, Statistics', 'Python, ML, Deep Learning']\n",
    "}\n",
    "\n",
    "df = pd.DataFrame(data)\n",
    "df.head()"
   ]
  },
  {
   "cell_type": "markdown",
   "id": "157dc440",
   "metadata": {},
   "source": [
    "## Analyze Top Skills"
   ]
  },
  {
   "cell_type": "code",
   "execution_count": null,
   "id": "1bf6dce7",
   "metadata": {},
   "outputs": [],
   "source": [
    "skills_list = df['Skills'].str.split(', ').explode()\n",
    "skill_counts = skills_list.value_counts()\n",
    "skill_counts"
   ]
  },
  {
   "cell_type": "markdown",
   "id": "5e20ff01",
   "metadata": {},
   "source": [
    "## Plot Top Skills"
   ]
  },
  {
   "cell_type": "code",
   "execution_count": null,
   "id": "e1ff7dc7",
   "metadata": {},
   "outputs": [],
   "source": [
    "plt.figure(figsize=(8,5))\n",
    "sns.barplot(x=skill_counts.values, y=skill_counts.index, palette='viridis')\n",
    "plt.title('Top Skills in Job Postings')\n",
    "plt.xlabel('Count')\n",
    "plt.ylabel('Skill')\n",
    "plt.show()"
   ]
  },
  {
   "cell_type": "markdown",
   "id": "9edc8dd5",
   "metadata": {},
   "source": [
    "## Notes\n",
    "- You can add more columns like `Industry`, `Experience Level` later.\n",
    "- This is a simple example to showcase practical data analysis skills in GitHub."
   ]
  }
 ],
 "metadata": {},
 "nbformat": 4,
 "nbformat_minor": 5
}
